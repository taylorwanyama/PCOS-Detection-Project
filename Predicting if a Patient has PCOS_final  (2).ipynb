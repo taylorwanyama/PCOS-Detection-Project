{
 "cells": [
  {
   "cell_type": "markdown",
   "id": "9cbe71f3-1cc0-4061-9b4a-421ac04f323c",
   "metadata": {},
   "source": [
    "#\n",
    "Polycystic Ovary Syndrome (PCOS) is a hormonal condition affecting 5-10% of women of reproductive age. It is characterized by symptoms such as irregular periods, excessive hair growth, and ovarian cysts, which can significantly impact a woman's health and quality of life. Early detection is crucial for timely medical intervention.\n",
    "\n",
    "In this project, I aim to build and evaluate three machine learning models—Logistic Regression, Decision Tree Classifier, and Random Forest Classifier—to predict PCOS diagnosis (binary target: 0 for no PCOS and 1 for PCOS). These models were chosen for their suitability in binary classification tasks and their ability to provide interpretable and accurate predictions.\n",
    "\n",
    "The project will include hyperparameter tuning to optimize the models and identify the best-performing one. I will begin by importing the necessary libraries for data preprocessing, model building, and evaluation. This project holds real-world significance, as improving PCOS detection could help affected women receive timely medical care and support. "
   ]
  },
  {
   "cell_type": "code",
   "execution_count": 1,
   "id": "1db1a26b-770d-438f-839a-4b567fb1206b",
   "metadata": {},
   "outputs": [],
   "source": [
    "#Importing the necessary libraries\n",
    "import pandas as pd\n",
    "import numpy as np\n",
    "from sklearn.preprocessing import StandardScaler\n",
    "from sklearn.linear_model import LogisticRegression\n",
    "from sklearn.metrics import accuracy_score, confusion_matrix, ConfusionMatrixDisplay, classification_report\n",
    "from sklearn.model_selection import train_test_split"
   ]
  },
  {
   "cell_type": "code",
   "execution_count": 3,
   "id": "88f85c79-ebaa-4214-8784-80b38a0826ff",
   "metadata": {},
   "outputs": [
    {
     "data": {
      "text/html": [
       "<div>\n",
       "<style scoped>\n",
       "    .dataframe tbody tr th:only-of-type {\n",
       "        vertical-align: middle;\n",
       "    }\n",
       "\n",
       "    .dataframe tbody tr th {\n",
       "        vertical-align: top;\n",
       "    }\n",
       "\n",
       "    .dataframe thead th {\n",
       "        text-align: right;\n",
       "    }\n",
       "</style>\n",
       "<table border=\"1\" class=\"dataframe\">\n",
       "  <thead>\n",
       "    <tr style=\"text-align: right;\">\n",
       "      <th></th>\n",
       "      <th>Age</th>\n",
       "      <th>BMI</th>\n",
       "      <th>Menstrual_Irregularity</th>\n",
       "      <th>Testosterone_Level(ng/dL)</th>\n",
       "      <th>Antral_Follicle_Count</th>\n",
       "      <th>PCOS_Diagnosis</th>\n",
       "    </tr>\n",
       "  </thead>\n",
       "  <tbody>\n",
       "    <tr>\n",
       "      <th>0</th>\n",
       "      <td>24</td>\n",
       "      <td>34.7</td>\n",
       "      <td>1</td>\n",
       "      <td>25.2</td>\n",
       "      <td>20</td>\n",
       "      <td>0</td>\n",
       "    </tr>\n",
       "    <tr>\n",
       "      <th>1</th>\n",
       "      <td>37</td>\n",
       "      <td>26.4</td>\n",
       "      <td>0</td>\n",
       "      <td>57.1</td>\n",
       "      <td>25</td>\n",
       "      <td>0</td>\n",
       "    </tr>\n",
       "    <tr>\n",
       "      <th>2</th>\n",
       "      <td>32</td>\n",
       "      <td>23.6</td>\n",
       "      <td>0</td>\n",
       "      <td>92.7</td>\n",
       "      <td>28</td>\n",
       "      <td>0</td>\n",
       "    </tr>\n",
       "    <tr>\n",
       "      <th>3</th>\n",
       "      <td>28</td>\n",
       "      <td>28.8</td>\n",
       "      <td>0</td>\n",
       "      <td>63.1</td>\n",
       "      <td>26</td>\n",
       "      <td>0</td>\n",
       "    </tr>\n",
       "    <tr>\n",
       "      <th>4</th>\n",
       "      <td>25</td>\n",
       "      <td>22.1</td>\n",
       "      <td>1</td>\n",
       "      <td>59.8</td>\n",
       "      <td>8</td>\n",
       "      <td>0</td>\n",
       "    </tr>\n",
       "    <tr>\n",
       "      <th>5</th>\n",
       "      <td>38</td>\n",
       "      <td>19.3</td>\n",
       "      <td>0</td>\n",
       "      <td>28.4</td>\n",
       "      <td>6</td>\n",
       "      <td>0</td>\n",
       "    </tr>\n",
       "    <tr>\n",
       "      <th>6</th>\n",
       "      <td>24</td>\n",
       "      <td>20.2</td>\n",
       "      <td>1</td>\n",
       "      <td>72.5</td>\n",
       "      <td>29</td>\n",
       "      <td>0</td>\n",
       "    </tr>\n",
       "    <tr>\n",
       "      <th>7</th>\n",
       "      <td>43</td>\n",
       "      <td>20.2</td>\n",
       "      <td>1</td>\n",
       "      <td>85.8</td>\n",
       "      <td>17</td>\n",
       "      <td>0</td>\n",
       "    </tr>\n",
       "    <tr>\n",
       "      <th>8</th>\n",
       "      <td>36</td>\n",
       "      <td>20.6</td>\n",
       "      <td>0</td>\n",
       "      <td>50.4</td>\n",
       "      <td>5</td>\n",
       "      <td>0</td>\n",
       "    </tr>\n",
       "    <tr>\n",
       "      <th>9</th>\n",
       "      <td>40</td>\n",
       "      <td>20.4</td>\n",
       "      <td>0</td>\n",
       "      <td>82.0</td>\n",
       "      <td>21</td>\n",
       "      <td>0</td>\n",
       "    </tr>\n",
       "  </tbody>\n",
       "</table>\n",
       "</div>"
      ],
      "text/plain": [
       "   Age   BMI  Menstrual_Irregularity  Testosterone_Level(ng/dL)  \\\n",
       "0   24  34.7                       1                       25.2   \n",
       "1   37  26.4                       0                       57.1   \n",
       "2   32  23.6                       0                       92.7   \n",
       "3   28  28.8                       0                       63.1   \n",
       "4   25  22.1                       1                       59.8   \n",
       "5   38  19.3                       0                       28.4   \n",
       "6   24  20.2                       1                       72.5   \n",
       "7   43  20.2                       1                       85.8   \n",
       "8   36  20.6                       0                       50.4   \n",
       "9   40  20.4                       0                       82.0   \n",
       "\n",
       "   Antral_Follicle_Count  PCOS_Diagnosis  \n",
       "0                     20               0  \n",
       "1                     25               0  \n",
       "2                     28               0  \n",
       "3                     26               0  \n",
       "4                      8               0  \n",
       "5                      6               0  \n",
       "6                     29               0  \n",
       "7                     17               0  \n",
       "8                      5               0  \n",
       "9                     21               0  "
      ]
     },
     "execution_count": 3,
     "metadata": {},
     "output_type": "execute_result"
    }
   ],
   "source": [
    "#Loading the PCOS data into Jupyter notebook\n",
    "Data = pd.read_csv(\"pcos_dataset.csv\")\n",
    "Data.head(10)\n"
   ]
  },
  {
   "cell_type": "code",
   "execution_count": 5,
   "id": "1fb3a442-02aa-4e84-90ab-adc59b399f38",
   "metadata": {},
   "outputs": [
    {
     "name": "stdout",
     "output_type": "stream",
     "text": [
      "Index(['Age', 'BMI', 'Menstrual_Irregularity', 'Testosterone_Level(ng/dL)',\n",
      "       'Antral_Follicle_Count', 'PCOS_Diagnosis'],\n",
      "      dtype='object')\n"
     ]
    }
   ],
   "source": [
    "print(f\"{Data.columns}\")   # Confirming the columns contained in my dataset"
   ]
  },
  {
   "cell_type": "code",
   "execution_count": 7,
   "id": "226ad86e-56af-4b80-b775-daec6342713c",
   "metadata": {},
   "outputs": [
    {
     "data": {
      "text/plain": [
       "Age                          0\n",
       "BMI                          0\n",
       "Menstrual_Irregularity       0\n",
       "Testosterone_Level(ng/dL)    0\n",
       "Antral_Follicle_Count        0\n",
       "PCOS_Diagnosis               0\n",
       "dtype: int64"
      ]
     },
     "execution_count": 7,
     "metadata": {},
     "output_type": "execute_result"
    }
   ],
   "source": [
    "# Are there any missing values?\n",
    "Data.isnull().sum()"
   ]
  },
  {
   "cell_type": "code",
   "execution_count": 9,
   "id": "6e99b4a5-c802-46b4-9c7a-b1e12d497b65",
   "metadata": {},
   "outputs": [
    {
     "name": "stdout",
     "output_type": "stream",
     "text": [
      "<class 'pandas.core.frame.DataFrame'>\n",
      "RangeIndex: 1000 entries, 0 to 999\n",
      "Data columns (total 6 columns):\n",
      " #   Column                     Non-Null Count  Dtype  \n",
      "---  ------                     --------------  -----  \n",
      " 0   Age                        1000 non-null   int64  \n",
      " 1   BMI                        1000 non-null   float64\n",
      " 2   Menstrual_Irregularity     1000 non-null   int64  \n",
      " 3   Testosterone_Level(ng/dL)  1000 non-null   float64\n",
      " 4   Antral_Follicle_Count      1000 non-null   int64  \n",
      " 5   PCOS_Diagnosis             1000 non-null   int64  \n",
      "dtypes: float64(2), int64(4)\n",
      "memory usage: 47.0 KB\n",
      "None\n"
     ]
    }
   ],
   "source": [
    "print(Data.info()) # Investigating the data type of each column."
   ]
  },
  {
   "cell_type": "code",
   "execution_count": 11,
   "id": "357987a5-f8b7-4e7f-8510-e40079242546",
   "metadata": {},
   "outputs": [
    {
     "data": {
      "text/html": [
       "<div>\n",
       "<style scoped>\n",
       "    .dataframe tbody tr th:only-of-type {\n",
       "        vertical-align: middle;\n",
       "    }\n",
       "\n",
       "    .dataframe tbody tr th {\n",
       "        vertical-align: top;\n",
       "    }\n",
       "\n",
       "    .dataframe thead th {\n",
       "        text-align: right;\n",
       "    }\n",
       "</style>\n",
       "<table border=\"1\" class=\"dataframe\">\n",
       "  <thead>\n",
       "    <tr style=\"text-align: right;\">\n",
       "      <th></th>\n",
       "      <th>Age</th>\n",
       "      <th>BMI</th>\n",
       "      <th>Menstrual_Irregularity</th>\n",
       "      <th>Testosterone_Level(ng/dL)</th>\n",
       "      <th>Antral_Follicle_Count</th>\n",
       "      <th>PCOS_Diagnosis</th>\n",
       "    </tr>\n",
       "  </thead>\n",
       "  <tbody>\n",
       "    <tr>\n",
       "      <th>count</th>\n",
       "      <td>1000.000000</td>\n",
       "      <td>1000.00000</td>\n",
       "      <td>1000.000000</td>\n",
       "      <td>1000.000000</td>\n",
       "      <td>1000.000000</td>\n",
       "      <td>1000.000000</td>\n",
       "    </tr>\n",
       "    <tr>\n",
       "      <th>mean</th>\n",
       "      <td>31.771000</td>\n",
       "      <td>26.38700</td>\n",
       "      <td>0.530000</td>\n",
       "      <td>60.159500</td>\n",
       "      <td>17.469000</td>\n",
       "      <td>0.199000</td>\n",
       "    </tr>\n",
       "    <tr>\n",
       "      <th>std</th>\n",
       "      <td>8.463462</td>\n",
       "      <td>4.93554</td>\n",
       "      <td>0.499349</td>\n",
       "      <td>23.160204</td>\n",
       "      <td>7.069301</td>\n",
       "      <td>0.399448</td>\n",
       "    </tr>\n",
       "    <tr>\n",
       "      <th>min</th>\n",
       "      <td>18.000000</td>\n",
       "      <td>18.10000</td>\n",
       "      <td>0.000000</td>\n",
       "      <td>20.000000</td>\n",
       "      <td>5.000000</td>\n",
       "      <td>0.000000</td>\n",
       "    </tr>\n",
       "    <tr>\n",
       "      <th>25%</th>\n",
       "      <td>24.000000</td>\n",
       "      <td>21.90000</td>\n",
       "      <td>0.000000</td>\n",
       "      <td>41.700000</td>\n",
       "      <td>12.000000</td>\n",
       "      <td>0.000000</td>\n",
       "    </tr>\n",
       "    <tr>\n",
       "      <th>50%</th>\n",
       "      <td>32.000000</td>\n",
       "      <td>26.40000</td>\n",
       "      <td>1.000000</td>\n",
       "      <td>60.000000</td>\n",
       "      <td>18.000000</td>\n",
       "      <td>0.000000</td>\n",
       "    </tr>\n",
       "    <tr>\n",
       "      <th>75%</th>\n",
       "      <td>39.000000</td>\n",
       "      <td>30.50000</td>\n",
       "      <td>1.000000</td>\n",
       "      <td>80.300000</td>\n",
       "      <td>23.250000</td>\n",
       "      <td>0.000000</td>\n",
       "    </tr>\n",
       "    <tr>\n",
       "      <th>max</th>\n",
       "      <td>45.000000</td>\n",
       "      <td>35.00000</td>\n",
       "      <td>1.000000</td>\n",
       "      <td>99.800000</td>\n",
       "      <td>29.000000</td>\n",
       "      <td>1.000000</td>\n",
       "    </tr>\n",
       "  </tbody>\n",
       "</table>\n",
       "</div>"
      ],
      "text/plain": [
       "               Age         BMI  Menstrual_Irregularity  \\\n",
       "count  1000.000000  1000.00000             1000.000000   \n",
       "mean     31.771000    26.38700                0.530000   \n",
       "std       8.463462     4.93554                0.499349   \n",
       "min      18.000000    18.10000                0.000000   \n",
       "25%      24.000000    21.90000                0.000000   \n",
       "50%      32.000000    26.40000                1.000000   \n",
       "75%      39.000000    30.50000                1.000000   \n",
       "max      45.000000    35.00000                1.000000   \n",
       "\n",
       "       Testosterone_Level(ng/dL)  Antral_Follicle_Count  PCOS_Diagnosis  \n",
       "count                1000.000000            1000.000000     1000.000000  \n",
       "mean                   60.159500              17.469000        0.199000  \n",
       "std                    23.160204               7.069301        0.399448  \n",
       "min                    20.000000               5.000000        0.000000  \n",
       "25%                    41.700000              12.000000        0.000000  \n",
       "50%                    60.000000              18.000000        0.000000  \n",
       "75%                    80.300000              23.250000        0.000000  \n",
       "max                    99.800000              29.000000        1.000000  "
      ]
     },
     "execution_count": 11,
     "metadata": {},
     "output_type": "execute_result"
    }
   ],
   "source": [
    "Data.describe()  # Return summary statistics of numerical columnms "
   ]
  },
  {
   "cell_type": "code",
   "execution_count": 17,
   "id": "e073c550-bb54-407d-8db2-872d4d5e473b",
   "metadata": {},
   "outputs": [],
   "source": [
    "#Splitting the data into the target and Explanatory Variables\n",
    "X = Data[[\"Age\",\"BMI\",\"Menstrual_Irregularity\",\"Testosterone_Level(ng/dL)\",\"Antral_Follicle_Count\"]]\n",
    "y = Data[\"PCOS_Diagnosis\"]"
   ]
  },
  {
   "cell_type": "code",
   "execution_count": 19,
   "id": "24b6c4c1-bf5a-4988-9d70-488ebb06dac6",
   "metadata": {},
   "outputs": [
    {
     "data": {
      "text/plain": [
       "(1000, 6)"
      ]
     },
     "execution_count": 19,
     "metadata": {},
     "output_type": "execute_result"
    }
   ],
   "source": [
    "# The number of rows and columns contained in the dataset\n",
    "Data.shape"
   ]
  },
  {
   "cell_type": "code",
   "execution_count": 21,
   "id": "1d4f77bf-c61d-4d0d-8b96-c84e18a75241",
   "metadata": {},
   "outputs": [
    {
     "data": {
      "text/plain": [
       "<Axes: xlabel='PCOS_Diagnosis', ylabel='count'>"
      ]
     },
     "execution_count": 21,
     "metadata": {},
     "output_type": "execute_result"
    },
    {
     "data": {
      "image/png": "[encoded data removed]",
      "text/plain": [
       "<Figure size 640x480 with 1 Axes>"
      ]
     },
     "metadata": {},
     "output_type": "display_data"
    }
   ],
   "source": [
    "# The distribtuion of the target variable, PCOS_diagnosis\n",
    "import seaborn as sns\n",
    "sns.set_style(\"darkgrid\")\n",
    "sns.countplot(x = \"PCOS_Diagnosis\", data= Data)"
   ]
  },
  {
   "cell_type": "markdown",
   "id": "73e52cb0-e29a-4310-bbf6-e52ca61a0090",
   "metadata": {},
   "source": [
    "#\n",
    "According to the data, most patients have PCOS as compared to people who do not have PCOS. "
   ]
  },
  {
   "cell_type": "code",
   "execution_count": 23,
   "id": "5ce54f7e-c255-45e6-831f-03238928ef63",
   "metadata": {},
   "outputs": [
    {
     "data": {
      "text/plain": [
       "<Axes: >"
      ]
     },
     "execution_count": 23,
     "metadata": {},
     "output_type": "execute_result"
    },
    {
     "data": {
      "image/png": "[encoded data removed]",
      "text/plain": [
       "<Figure size 1200x800 with 2 Axes>"
      ]
     },
     "metadata": {},
     "output_type": "display_data"
    }
   ],
   "source": [
    "#Getting the correlation matrix and visualizing it using a heatmap\n",
    "import matplotlib.pyplot as plt\n",
    "plt.figure(figsize=(12,8))\n",
    "mask =  np.triu(np.ones_like(Data.corr()))\n",
    "sns.heatmap(Data.corr(), vmin = -1, vmax = 1, cmap = \"Blues\", mask = mask)"
   ]
  },
  {
   "cell_type": "code",
   "execution_count": 25,
   "id": "6147861a-3a8c-432f-96b5-569c1873a1c9",
   "metadata": {},
   "outputs": [
    {
     "data": {
      "text/plain": [
       "Text(0.5, 1.0, 'Features Correlating with having PCOS')"
      ]
     },
     "execution_count": 25,
     "metadata": {},
     "output_type": "execute_result"
    },
    {
     "data": {
      "image/png": "[encoded data removed]",
      "text/plain": [
       "<Figure size 640x480 with 2 Axes>"
      ]
     },
     "metadata": {},
     "output_type": "display_data"
    }
   ],
   "source": [
    "# Modifying the heatmap to plot correlation between variables in the dataset and PCOS_dignosis\n",
    "heatmap = sns.heatmap(Data.corr()[[\"PCOS_Diagnosis\"]].sort_values(by = \"PCOS_Diagnosis\", ascending =False), vmin = -1, vmax = 1, cmap = \"Blues\", annot = True)\n",
    "heatmap.set_title(\"Features Correlating with having PCOS\")\n"
   ]
  },
  {
   "cell_type": "code",
   "execution_count": 27,
   "id": "b607afa5-e2c6-418d-ada5-438c54ad935e",
   "metadata": {},
   "outputs": [
    {
     "data": {
      "text/plain": [
       "array([[-0.91864162,  1.68515712,  0.94169658, -1.51021956,  0.35820607],\n",
       "       [ 0.61814142,  0.00263528, -1.06191317, -0.1321677 ,  1.0658435 ],\n",
       "       [ 0.02707102, -0.56496246, -1.06191317,  1.40572089,  1.49042596],\n",
       "       ...,\n",
       "       [ 0.61814142,  0.38779088, -1.06191317, -1.19918591,  1.49042596],\n",
       "       [ 1.09099774,  0.1850774 , -1.06191317,  1.53099833, -1.19859628],\n",
       "       [-1.15506978, -0.90957537,  0.94169658,  0.80957307, -1.48165126]])"
      ]
     },
     "execution_count": 27,
     "metadata": {},
     "output_type": "execute_result"
    }
   ],
   "source": [
    "#Standardizing/ Normalizing the Explanatory variables\n",
    "#create a scaler\n",
    "scaler = StandardScaler()\n",
    "scaler.fit_transform(X)\n"
   ]
  },
  {
   "cell_type": "code",
   "execution_count": 29,
   "id": "5c9bb144-9f2d-499d-8eea-2495358654c4",
   "metadata": {},
   "outputs": [],
   "source": [
    "# splitting the data in testing and training sets\n",
    "X_train, X_test, y_train, y_test  = train_test_split(X, y, train_size = 0.8, random_state = 0)"
   ]
  },
  {
   "cell_type": "code",
   "execution_count": 31,
   "id": "5b229419-646a-4119-8b0a-9e786b97f44a",
   "metadata": {},
   "outputs": [
    {
     "data": {
      "text/html": [
       "<style>#sk-container-id-1 {color: black;background-color: white;}#sk-container-id-1 pre{padding: 0;}#sk-container-id-1 div.sk-toggleable {background-color: white;}#sk-container-id-1 label.sk-toggleable__label {cursor: pointer;display: block;width: 100%;margin-bottom: 0;padding: 0.3em;box-sizing: border-box;text-align: center;}#sk-container-id-1 label.sk-toggleable__label-arrow:before {content: \"▸\";float: left;margin-right: 0.25em;color: #696969;}#sk-container-id-1 label.sk-toggleable__label-arrow:hover:before {color: black;}#sk-container-id-1 div.sk-estimator:hover label.sk-toggleable__label-arrow:before {color: black;}#sk-container-id-1 div.sk-toggleable__content {max-height: 0;max-width: 0;overflow: hidden;text-align: left;background-color: #f0f8ff;}#sk-container-id-1 div.sk-toggleable__content pre {margin: 0.2em;color: black;border-radius: 0.25em;background-color: #f0f8ff;}#sk-container-id-1 input.sk-toggleable__control:checked~div.sk-toggleable__content {max-height: 200px;max-width: 100%;overflow: auto;}#sk-container-id-1 input.sk-toggleable__control:checked~label.sk-toggleable__label-arrow:before {content: \"▾\";}#sk-container-id-1 div.sk-estimator input.sk-toggleable__control:checked~label.sk-toggleable__label {background-color: #d4ebff;}#sk-container-id-1 div.sk-label input.sk-toggleable__control:checked~label.sk-toggleable__label {background-color: #d4ebff;}#sk-container-id-1 input.sk-hidden--visually {border: 0;clip: rect(1px 1px 1px 1px);clip: rect(1px, 1px, 1px, 1px);height: 1px;margin: -1px;overflow: hidden;padding: 0;position: absolute;width: 1px;}#sk-container-id-1 div.sk-estimator {font-family: monospace;background-color: #f0f8ff;border: 1px dotted black;border-radius: 0.25em;box-sizing: border-box;margin-bottom: 0.5em;}#sk-container-id-1 div.sk-estimator:hover {background-color: #d4ebff;}#sk-container-id-1 div.sk-parallel-item::after {content: \"\";width: 100%;border-bottom: 1px solid gray;flex-grow: 1;}#sk-container-id-1 div.sk-label:hover label.sk-toggleable__label {background-color: #d4ebff;}#sk-container-id-1 div.sk-serial::before {content: \"\";position: absolute;border-left: 1px solid gray;box-sizing: border-box;top: 0;bottom: 0;left: 50%;z-index: 0;}#sk-container-id-1 div.sk-serial {display: flex;flex-direction: column;align-items: center;background-color: white;padding-right: 0.2em;padding-left: 0.2em;position: relative;}#sk-container-id-1 div.sk-item {position: relative;z-index: 1;}#sk-container-id-1 div.sk-parallel {display: flex;align-items: stretch;justify-content: center;background-color: white;position: relative;}#sk-container-id-1 div.sk-item::before, #sk-container-id-1 div.sk-parallel-item::before {content: \"\";position: absolute;border-left: 1px solid gray;box-sizing: border-box;top: 0;bottom: 0;left: 50%;z-index: -1;}#sk-container-id-1 div.sk-parallel-item {display: flex;flex-direction: column;z-index: 1;position: relative;background-color: white;}#sk-container-id-1 div.sk-parallel-item:first-child::after {align-self: flex-end;width: 50%;}#sk-container-id-1 div.sk-parallel-item:last-child::after {align-self: flex-start;width: 50%;}#sk-container-id-1 div.sk-parallel-item:only-child::after {width: 0;}#sk-container-id-1 div.sk-dashed-wrapped {border: 1px dashed gray;margin: 0 0.4em 0.5em 0.4em;box-sizing: border-box;padding-bottom: 0.4em;background-color: white;}#sk-container-id-1 div.sk-label label {font-family: monospace;font-weight: bold;display: inline-block;line-height: 1.2em;}#sk-container-id-1 div.sk-label-container {text-align: center;}#sk-container-id-1 div.sk-container {/* jupyter's `normalize.less` sets `[hidden] { display: none; }` but bootstrap.min.css set `[hidden] { display: none !important; }` so we also need the `!important` here to be able to override the default hidden behavior on the sphinx rendered scikit-learn.org. See: https://github.com/scikit-learn/scikit-learn/issues/21755 */display: inline-block !important;position: relative;}#sk-container-id-1 div.sk-text-repr-fallback {display: none;}</style><div id=\"sk-container-id-1\" class=\"sk-top-container\"><div class=\"sk-text-repr-fallback\"><pre>LogisticRegression()</pre><b>In a Jupyter environment, please rerun this cell to show the HTML representation or trust the notebook. <br />On GitHub, the HTML representation is unable to render, please try loading this page with nbviewer.org.</b></div><div class=\"sk-container\" hidden><div class=\"sk-item\"><div class=\"sk-estimator sk-toggleable\"><input class=\"sk-toggleable__control sk-hidden--visually\" id=\"sk-estimator-id-1\" type=\"checkbox\" checked><label for=\"sk-estimator-id-1\" class=\"sk-toggleable__label sk-toggleable__label-arrow\">LogisticRegression</label><div class=\"sk-toggleable__content\"><pre>LogisticRegression()</pre></div></div></div></div></div>"
      ],
      "text/plain": [
       "LogisticRegression()"
      ]
     },
     "execution_count": 31,
     "metadata": {},
     "output_type": "execute_result"
    }
   ],
   "source": [
    "#Fitting and training the model\n",
    "logistic_model  = LogisticRegression()\n",
    "logistic_model.fit(X_train, y_train)"
   ]
  },
  {
   "cell_type": "code",
   "execution_count": 33,
   "id": "38c29b00-ff67-4921-9cb6-7ca6b99458ab",
   "metadata": {},
   "outputs": [
    {
     "data": {
      "text/plain": [
       "array([0, 0, 0, 1, 0, 1, 0, 0, 0, 0, 1, 0, 0, 1, 0, 0, 0, 0, 0, 0, 0, 0,\n",
       "       0, 1, 0, 0, 0, 1, 1, 0, 1, 0, 0, 0, 0, 0, 0, 1, 0, 0, 1, 0, 0, 0,\n",
       "       0, 0, 0, 0, 0, 0, 0, 0, 0, 0, 0, 0, 1, 0, 0, 0, 1, 0, 0, 0, 0, 1,\n",
       "       1, 0, 0, 0, 0, 0, 0, 0, 0, 0, 0, 0, 0, 0, 0, 0, 0, 0, 0, 0, 0, 0,\n",
       "       0, 1, 0, 0, 0, 0, 0, 0, 1, 0, 1, 0, 0, 0, 0, 0, 0, 0, 0, 0, 0, 1,\n",
       "       0, 0, 0, 0, 1, 1, 0, 0, 0, 0, 0, 0, 0, 0, 0, 1, 0, 0, 0, 1, 0, 0,\n",
       "       0, 0, 1, 0, 0, 0, 1, 1, 0, 0, 0, 0, 0, 0, 0, 0, 0, 1, 0, 0, 0, 0,\n",
       "       0, 0, 0, 0, 0, 0, 0, 0, 0, 0, 1, 0, 0, 0, 1, 0, 0, 0, 0, 0, 0, 0,\n",
       "       0, 0, 0, 1, 1, 0, 1, 0, 1, 0, 0, 0, 0, 0, 1, 0, 0, 0, 0, 0, 1, 0,\n",
       "       1, 0], dtype=int64)"
      ]
     },
     "execution_count": 33,
     "metadata": {},
     "output_type": "execute_result"
    }
   ],
   "source": [
    "# Making Predictions using the model\n",
    "predictions = logistic_model.predict(X_test)\n",
    "predictions"
   ]
  },
  {
   "cell_type": "code",
   "execution_count": 35,
   "id": "09fc1145-d6ee-416d-9b62-dfbdc1ff4947",
   "metadata": {},
   "outputs": [
    {
     "data": {
      "text/plain": [
       "0.895"
      ]
     },
     "execution_count": 35,
     "metadata": {},
     "output_type": "execute_result"
    }
   ],
   "source": [
    "#Evaluating the model: Method 1  \n",
    "score = accuracy_score(predictions,y_test)\n",
    "score"
   ]
  },
  {
   "cell_type": "markdown",
   "id": "25de7b54-a0bc-4c8a-953e-d519d7224bdf",
   "metadata": {},
   "source": [
    "# \n",
    "The accuracy score represents the proportion of correct predictions made by the logistic regression model that I have trained on my dataset.\n",
    "The accuracy score of my model is 89.6% which shows that the model is performing well, that is the model correctly classifies 89.5% of test samples . "
   ]
  },
  {
   "cell_type": "code",
   "execution_count": 37,
   "id": "b80c2a72-e4e1-476b-a34c-43f0c1fd2e6b",
   "metadata": {},
   "outputs": [
    {
     "name": "stdout",
     "output_type": "stream",
     "text": [
      "              precision    recall  f1-score   support\n",
      "\n",
      "Without PCOS       0.93      0.94      0.94       162\n",
      "   With PCOS       0.74      0.68      0.71        38\n",
      "\n",
      "    accuracy                           0.90       200\n",
      "   macro avg       0.84      0.81      0.82       200\n",
      "weighted avg       0.89      0.90      0.89       200\n",
      "\n"
     ]
    }
   ],
   "source": [
    "#Evaluating the model: Method 2\n",
    "list_p = [\"Without PCOS\", \"With PCOS\"]\n",
    "print(classification_report(y_test,predictions, target_names=list_p))\n"
   ]
  },
  {
   "cell_type": "markdown",
   "id": "defc0422-6cb1-4913-aae3-9bc1e6abb0e8",
   "metadata": {},
   "source": [
    "# Interpretation of Precision, recall, F1-score and support   \n",
    "Precision: 93% of predicted non-PCOS cases are correct while 74% of predicted PCOS cases are correct.\n",
    "\n",
    "Recall: 94% of the actual non-PCOS cases are identified while only 68% of actual PCOS cases are identified.\n",
    "\n",
    "F1-score:The score of 94% shows that the model is strong for non-PCOS detection but may under-identify PCOS cases(71%) .  \n",
    "  "
   ]
  },
  {
   "cell_type": "code",
   "execution_count": 39,
   "id": "31a32834-0393-4d6d-ace8-abb7639a3248",
   "metadata": {},
   "outputs": [
    {
     "data": {
      "text/plain": [
       "array([[153,   9],\n",
       "       [ 12,  26]], dtype=int64)"
      ]
     },
     "execution_count": 39,
     "metadata": {},
     "output_type": "execute_result"
    }
   ],
   "source": [
    "# Method 3: confusion matrix\n",
    "matrix = confusion_matrix(y_test,predictions)\n",
    "matrix"
   ]
  },
  {
   "cell_type": "markdown",
   "id": "f35b1671-70db-4557-91a0-39715359d7b7",
   "metadata": {},
   "source": [
    "#\n",
    "The confusion matrix is returned inform of an array. Note The the diagonal element of the array, 153 and 26, represents the actual predictions.\n",
    "The remaining non-diagonal elements represent inaccurate preditions."
   ]
  },
  {
   "cell_type": "code",
   "execution_count": 41,
   "id": "856749bc-dc1d-4b2f-9cb4-886cac96bf56",
   "metadata": {},
   "outputs": [
    {
     "data": {
      "image/png": "[encoded data removed]",
      "text/plain": [
       "<Figure size 640x480 with 2 Axes>"
      ]
     },
     "metadata": {},
     "output_type": "display_data"
    }
   ],
   "source": [
    "#Displaying the confusion matrix \n",
    "import matplotlib.pyplot as plt\n",
    "display = ConfusionMatrixDisplay(confusion_matrix = matrix, display_labels = list_p)\n",
    "display.plot(cmap=plt.cm.Blues)\n",
    "plt.show()"
   ]
  },
  {
   "cell_type": "markdown",
   "id": "c369fc95-4478-45a8-b10c-935448578a69",
   "metadata": {},
   "source": [
    "# The ROC curve\n",
    "The receiver operating characterics curve is a plot of true positive rate against the false positive rate. It shows a trade-off between sensitivity and specificity.\n"
   ]
  },
  {
   "cell_type": "code",
   "execution_count": 43,
   "id": "45a4f972-61c6-47b5-9d02-b14fe6667213",
   "metadata": {},
   "outputs": [
    {
     "data": {
      "image/png": "[encoded data removed]",
      "text/plain": [
       "<Figure size 640x480 with 1 Axes>"
      ]
     },
     "metadata": {},
     "output_type": "display_data"
    }
   ],
   "source": [
    "# Plotting the ROC curve\n",
    "from sklearn.metrics  import roc_curve, roc_auc_score\n",
    "import seaborn as sns\n",
    "sns.set_style(\"darkgrid\")\n",
    "y_pred_proba = logistic_model.predict_proba(X_test)[:,1]  # Extracts the probalities for the possitive class.  \n",
    "fpr, tpr, thresholds = roc_curve(y_test, y_pred_proba) # Calculates fpr and tpr for different probability thresholds.\n",
    "\n",
    "auc = roc_auc_score(y_test, y_pred_proba)  # Calculates the area under the ROC curve for the predicted probabilities and true labels.\n",
    "plt.plot(fpr, tpr, label=f\"Roc curve area={auc:.4f}\")\n",
    "plt.xlabel(\"False Positive Rate\")\n",
    "plt.ylabel(\"True Positive Rate\")\n",
    "plt.title(\"ROC Curve\")\n",
    "plt.legend(loc=4)\n",
    "plt.show()"
   ]
  },
  {
   "cell_type": "markdown",
   "id": "681619c8-0320-408c-9933-704870178028",
   "metadata": {},
   "source": [
    "# Interpreting the ROC value\n",
    "The auc, which is  0.947, is closer to 1. This shows excellent performance on the model's part, and that the model has strong ability to distinguish between the cases.  "
   ]
  },
  {
   "cell_type": "code",
   "execution_count": 45,
   "id": "42782e7e-d6e7-4fd6-8807-bbdd6e28dd87",
   "metadata": {},
   "outputs": [],
   "source": [
    "coef = abs(logistic_model.coef_[0]) # The coeffients represent the impact of each feature on the probability of positive class"
   ]
  },
  {
   "cell_type": "code",
   "execution_count": 47,
   "id": "12d97464-4feb-4696-9400-6f68d70b6378",
   "metadata": {},
   "outputs": [
    {
     "data": {
      "image/png": "[encoded data removed]",
      "text/plain": [
       "<Figure size 640x480 with 1 Axes>"
      ]
     },
     "metadata": {},
     "output_type": "display_data"
    }
   ],
   "source": [
    "# feature importance\n",
    "plt.barh(X.columns, coef)\n",
    "plt.show()"
   ]
  },
  {
   "cell_type": "markdown",
   "id": "f54029db-af84-4551-b05d-f792b6d451c5",
   "metadata": {},
   "source": [
    "#\n",
    "The graph above shows that menstual irregularity is the most important feature while Age is the least important."
   ]
  },
  {
   "cell_type": "markdown",
   "id": "1d250244-afd4-40ae-ac4f-c09c0427a4c9",
   "metadata": {},
   "source": [
    "# Fitting a decision tree Classifier"
   ]
  },
  {
   "cell_type": "code",
   "execution_count": 49,
   "id": "9e0a5feb-deb9-4c05-8ff5-2da413fdacc8",
   "metadata": {},
   "outputs": [],
   "source": [
    "from sklearn.tree import DecisionTreeClassifier, plot_tree \n"
   ]
  },
  {
   "cell_type": "code",
   "execution_count": 51,
   "id": "18a788b7-79bc-403e-8001-8e8db47cd81e",
   "metadata": {},
   "outputs": [
    {
     "data": {
      "text/html": [
       "<style>#sk-container-id-2 {color: black;background-color: white;}#sk-container-id-2 pre{padding: 0;}#sk-container-id-2 div.sk-toggleable {background-color: white;}#sk-container-id-2 label.sk-toggleable__label {cursor: pointer;display: block;width: 100%;margin-bottom: 0;padding: 0.3em;box-sizing: border-box;text-align: center;}#sk-container-id-2 label.sk-toggleable__label-arrow:before {content: \"▸\";float: left;margin-right: 0.25em;color: #696969;}#sk-container-id-2 label.sk-toggleable__label-arrow:hover:before {color: black;}#sk-container-id-2 div.sk-estimator:hover label.sk-toggleable__label-arrow:before {color: black;}#sk-container-id-2 div.sk-toggleable__content {max-height: 0;max-width: 0;overflow: hidden;text-align: left;background-color: #f0f8ff;}#sk-container-id-2 div.sk-toggleable__content pre {margin: 0.2em;color: black;border-radius: 0.25em;background-color: #f0f8ff;}#sk-container-id-2 input.sk-toggleable__control:checked~div.sk-toggleable__content {max-height: 200px;max-width: 100%;overflow: auto;}#sk-container-id-2 input.sk-toggleable__control:checked~label.sk-toggleable__label-arrow:before {content: \"▾\";}#sk-container-id-2 div.sk-estimator input.sk-toggleable__control:checked~label.sk-toggleable__label {background-color: #d4ebff;}#sk-container-id-2 div.sk-label input.sk-toggleable__control:checked~label.sk-toggleable__label {background-color: #d4ebff;}#sk-container-id-2 input.sk-hidden--visually {border: 0;clip: rect(1px 1px 1px 1px);clip: rect(1px, 1px, 1px, 1px);height: 1px;margin: -1px;overflow: hidden;padding: 0;position: absolute;width: 1px;}#sk-container-id-2 div.sk-estimator {font-family: monospace;background-color: #f0f8ff;border: 1px dotted black;border-radius: 0.25em;box-sizing: border-box;margin-bottom: 0.5em;}#sk-container-id-2 div.sk-estimator:hover {background-color: #d4ebff;}#sk-container-id-2 div.sk-parallel-item::after {content: \"\";width: 100%;border-bottom: 1px solid gray;flex-grow: 1;}#sk-container-id-2 div.sk-label:hover label.sk-toggleable__label {background-color: #d4ebff;}#sk-container-id-2 div.sk-serial::before {content: \"\";position: absolute;border-left: 1px solid gray;box-sizing: border-box;top: 0;bottom: 0;left: 50%;z-index: 0;}#sk-container-id-2 div.sk-serial {display: flex;flex-direction: column;align-items: center;background-color: white;padding-right: 0.2em;padding-left: 0.2em;position: relative;}#sk-container-id-2 div.sk-item {position: relative;z-index: 1;}#sk-container-id-2 div.sk-parallel {display: flex;align-items: stretch;justify-content: center;background-color: white;position: relative;}#sk-container-id-2 div.sk-item::before, #sk-container-id-2 div.sk-parallel-item::before {content: \"\";position: absolute;border-left: 1px solid gray;box-sizing: border-box;top: 0;bottom: 0;left: 50%;z-index: -1;}#sk-container-id-2 div.sk-parallel-item {display: flex;flex-direction: column;z-index: 1;position: relative;background-color: white;}#sk-container-id-2 div.sk-parallel-item:first-child::after {align-self: flex-end;width: 50%;}#sk-container-id-2 div.sk-parallel-item:last-child::after {align-self: flex-start;width: 50%;}#sk-container-id-2 div.sk-parallel-item:only-child::after {width: 0;}#sk-container-id-2 div.sk-dashed-wrapped {border: 1px dashed gray;margin: 0 0.4em 0.5em 0.4em;box-sizing: border-box;padding-bottom: 0.4em;background-color: white;}#sk-container-id-2 div.sk-label label {font-family: monospace;font-weight: bold;display: inline-block;line-height: 1.2em;}#sk-container-id-2 div.sk-label-container {text-align: center;}#sk-container-id-2 div.sk-container {/* jupyter's `normalize.less` sets `[hidden] { display: none; }` but bootstrap.min.css set `[hidden] { display: none !important; }` so we also need the `!important` here to be able to override the default hidden behavior on the sphinx rendered scikit-learn.org. See: https://github.com/scikit-learn/scikit-learn/issues/21755 */display: inline-block !important;position: relative;}#sk-container-id-2 div.sk-text-repr-fallback {display: none;}</style><div id=\"sk-container-id-2\" class=\"sk-top-container\"><div class=\"sk-text-repr-fallback\"><pre>DecisionTreeClassifier(criterion=&#x27;entropy&#x27;, max_depth=4)</pre><b>In a Jupyter environment, please rerun this cell to show the HTML representation or trust the notebook. <br />On GitHub, the HTML representation is unable to render, please try loading this page with nbviewer.org.</b></div><div class=\"sk-container\" hidden><div class=\"sk-item\"><div class=\"sk-estimator sk-toggleable\"><input class=\"sk-toggleable__control sk-hidden--visually\" id=\"sk-estimator-id-2\" type=\"checkbox\" checked><label for=\"sk-estimator-id-2\" class=\"sk-toggleable__label sk-toggleable__label-arrow\">DecisionTreeClassifier</label><div class=\"sk-toggleable__content\"><pre>DecisionTreeClassifier(criterion=&#x27;entropy&#x27;, max_depth=4)</pre></div></div></div></div></div>"
      ],
      "text/plain": [
       "DecisionTreeClassifier(criterion='entropy', max_depth=4)"
      ]
     },
     "execution_count": 51,
     "metadata": {},
     "output_type": "execute_result"
    }
   ],
   "source": [
    "model = DecisionTreeClassifier(criterion=\"entropy\", max_depth=4)\n",
    "model.fit(X_train,y_train)"
   ]
  },
  {
   "cell_type": "code",
   "execution_count": 55,
   "id": "3a4fb640-83ae-449f-9f1b-e41f6b33ce00",
   "metadata": {},
   "outputs": [],
   "source": [
    "pred_pcos = model.predict(X_test)"
   ]
  },
  {
   "cell_type": "code",
   "execution_count": 59,
   "id": "5d305a2d-8ce1-4c3d-bb7b-73271f50a541",
   "metadata": {},
   "outputs": [
    {
     "data": {
      "text/plain": [
       "0.995"
      ]
     },
     "execution_count": 59,
     "metadata": {},
     "output_type": "execute_result"
    }
   ],
   "source": [
    "accuracy = accuracy_score(y_test, pred_pcos)\n",
    "accuracy"
   ]
  },
  {
   "cell_type": "code",
   "execution_count": 61,
   "id": "49e7bfab-c99d-42c1-b0f7-0105a4d6452d",
   "metadata": {},
   "outputs": [
    {
     "name": "stdout",
     "output_type": "stream",
     "text": [
      "              precision    recall  f1-score   support\n",
      "\n",
      "Without PCOS       0.99      1.00      1.00       162\n",
      "   With PCOS       1.00      0.97      0.99        38\n",
      "\n",
      "    accuracy                           0.99       200\n",
      "   macro avg       1.00      0.99      0.99       200\n",
      "weighted avg       1.00      0.99      0.99       200\n",
      "\n"
     ]
    }
   ],
   "source": [
    "#Evaluating the model: Method 2\n",
    "list_p = [\"Without PCOS\", \"With PCOS\"]\n",
    "print(classification_report(y_test,pred_pcos, target_names=list_p))"
   ]
  },
  {
   "cell_type": "code",
   "execution_count": 63,
   "id": "fa198221-5a1a-4233-afa1-960046a5d24a",
   "metadata": {},
   "outputs": [
    {
     "data": {
      "text/plain": [
       "array([[162,   0],\n",
       "       [  1,  37]], dtype=int64)"
      ]
     },
     "execution_count": 63,
     "metadata": {},
     "output_type": "execute_result"
    }
   ],
   "source": [
    "# Method 3: confusion matrix\n",
    "matrix1 = confusion_matrix(y_test,pred_pcos)\n",
    "matrix1"
   ]
  },
  {
   "cell_type": "code",
   "execution_count": 65,
   "id": "337389bb-1b7a-4dec-91c9-fe1b5f0fdbe2",
   "metadata": {},
   "outputs": [
    {
     "data": {
      "image/png": "[encoded data removed]",
      "text/plain": [
       "<Figure size 640x480 with 2 Axes>"
      ]
     },
     "metadata": {},
     "output_type": "display_data"
    }
   ],
   "source": [
    "#Displaying the confusion matrix \n",
    "import matplotlib.pyplot as plt\n",
    "display = ConfusionMatrixDisplay(confusion_matrix = matrix1, display_labels = list_p)\n",
    "display.plot(cmap=plt.cm.Blues)\n",
    "plt.show()"
   ]
  },
  {
   "cell_type": "markdown",
   "id": "519c1fe1-ea33-453f-a6df-ef51e4c600df",
   "metadata": {},
   "source": [
    "#### Fitting a Random Forest Classifier\n"
   ]
  },
  {
   "cell_type": "code",
   "execution_count": 109,
   "id": "6c759da5-fb9d-494d-bf01-26352f8ea9c5",
   "metadata": {},
   "outputs": [
    {
     "data": {
      "text/html": [
       "<style>#sk-container-id-4 {color: black;background-color: white;}#sk-container-id-4 pre{padding: 0;}#sk-container-id-4 div.sk-toggleable {background-color: white;}#sk-container-id-4 label.sk-toggleable__label {cursor: pointer;display: block;width: 100%;margin-bottom: 0;padding: 0.3em;box-sizing: border-box;text-align: center;}#sk-container-id-4 label.sk-toggleable__label-arrow:before {content: \"▸\";float: left;margin-right: 0.25em;color: #696969;}#sk-container-id-4 label.sk-toggleable__label-arrow:hover:before {color: black;}#sk-container-id-4 div.sk-estimator:hover label.sk-toggleable__label-arrow:before {color: black;}#sk-container-id-4 div.sk-toggleable__content {max-height: 0;max-width: 0;overflow: hidden;text-align: left;background-color: #f0f8ff;}#sk-container-id-4 div.sk-toggleable__content pre {margin: 0.2em;color: black;border-radius: 0.25em;background-color: #f0f8ff;}#sk-container-id-4 input.sk-toggleable__control:checked~div.sk-toggleable__content {max-height: 200px;max-width: 100%;overflow: auto;}#sk-container-id-4 input.sk-toggleable__control:checked~label.sk-toggleable__label-arrow:before {content: \"▾\";}#sk-container-id-4 div.sk-estimator input.sk-toggleable__control:checked~label.sk-toggleable__label {background-color: #d4ebff;}#sk-container-id-4 div.sk-label input.sk-toggleable__control:checked~label.sk-toggleable__label {background-color: #d4ebff;}#sk-container-id-4 input.sk-hidden--visually {border: 0;clip: rect(1px 1px 1px 1px);clip: rect(1px, 1px, 1px, 1px);height: 1px;margin: -1px;overflow: hidden;padding: 0;position: absolute;width: 1px;}#sk-container-id-4 div.sk-estimator {font-family: monospace;background-color: #f0f8ff;border: 1px dotted black;border-radius: 0.25em;box-sizing: border-box;margin-bottom: 0.5em;}#sk-container-id-4 div.sk-estimator:hover {background-color: #d4ebff;}#sk-container-id-4 div.sk-parallel-item::after {content: \"\";width: 100%;border-bottom: 1px solid gray;flex-grow: 1;}#sk-container-id-4 div.sk-label:hover label.sk-toggleable__label {background-color: #d4ebff;}#sk-container-id-4 div.sk-serial::before {content: \"\";position: absolute;border-left: 1px solid gray;box-sizing: border-box;top: 0;bottom: 0;left: 50%;z-index: 0;}#sk-container-id-4 div.sk-serial {display: flex;flex-direction: column;align-items: center;background-color: white;padding-right: 0.2em;padding-left: 0.2em;position: relative;}#sk-container-id-4 div.sk-item {position: relative;z-index: 1;}#sk-container-id-4 div.sk-parallel {display: flex;align-items: stretch;justify-content: center;background-color: white;position: relative;}#sk-container-id-4 div.sk-item::before, #sk-container-id-4 div.sk-parallel-item::before {content: \"\";position: absolute;border-left: 1px solid gray;box-sizing: border-box;top: 0;bottom: 0;left: 50%;z-index: -1;}#sk-container-id-4 div.sk-parallel-item {display: flex;flex-direction: column;z-index: 1;position: relative;background-color: white;}#sk-container-id-4 div.sk-parallel-item:first-child::after {align-self: flex-end;width: 50%;}#sk-container-id-4 div.sk-parallel-item:last-child::after {align-self: flex-start;width: 50%;}#sk-container-id-4 div.sk-parallel-item:only-child::after {width: 0;}#sk-container-id-4 div.sk-dashed-wrapped {border: 1px dashed gray;margin: 0 0.4em 0.5em 0.4em;box-sizing: border-box;padding-bottom: 0.4em;background-color: white;}#sk-container-id-4 div.sk-label label {font-family: monospace;font-weight: bold;display: inline-block;line-height: 1.2em;}#sk-container-id-4 div.sk-label-container {text-align: center;}#sk-container-id-4 div.sk-container {/* jupyter's `normalize.less` sets `[hidden] { display: none; }` but bootstrap.min.css set `[hidden] { display: none !important; }` so we also need the `!important` here to be able to override the default hidden behavior on the sphinx rendered scikit-learn.org. See: https://github.com/scikit-learn/scikit-learn/issues/21755 */display: inline-block !important;position: relative;}#sk-container-id-4 div.sk-text-repr-fallback {display: none;}</style><div id=\"sk-container-id-4\" class=\"sk-top-container\"><div class=\"sk-text-repr-fallback\"><pre>RandomForestClassifier(max_depth=3, random_state=0)</pre><b>In a Jupyter environment, please rerun this cell to show the HTML representation or trust the notebook. <br />On GitHub, the HTML representation is unable to render, please try loading this page with nbviewer.org.</b></div><div class=\"sk-container\" hidden><div class=\"sk-item\"><div class=\"sk-estimator sk-toggleable\"><input class=\"sk-toggleable__control sk-hidden--visually\" id=\"sk-estimator-id-4\" type=\"checkbox\" checked><label for=\"sk-estimator-id-4\" class=\"sk-toggleable__label sk-toggleable__label-arrow\">RandomForestClassifier</label><div class=\"sk-toggleable__content\"><pre>RandomForestClassifier(max_depth=3, random_state=0)</pre></div></div></div></div></div>"
      ],
      "text/plain": [
       "RandomForestClassifier(max_depth=3, random_state=0)"
      ]
     },
     "execution_count": 109,
     "metadata": {},
     "output_type": "execute_result"
    }
   ],
   "source": [
    "from sklearn.ensemble import RandomForestClassifier\n",
    "clf = RandomForestClassifier(max_depth=3, random_state=0)\n",
    "clf.fit(X_train, y_train)"
   ]
  },
  {
   "cell_type": "code",
   "execution_count": 111,
   "id": "1cbbef5b-e7a2-4b87-8de6-8050580a7117",
   "metadata": {},
   "outputs": [],
   "source": [
    "#making predictions with the trained model\n",
    "clf_pred = clf.predict(X_test)"
   ]
  },
  {
   "cell_type": "code",
   "execution_count": 113,
   "id": "8de7fcf6-1c20-4248-80b5-0fc8587c306c",
   "metadata": {},
   "outputs": [
    {
     "data": {
      "text/plain": [
       "0.995"
      ]
     },
     "execution_count": 113,
     "metadata": {},
     "output_type": "execute_result"
    }
   ],
   "source": [
    "accuracy1 = accuracy_score(y_test, clf_pred)\n",
    "accuracy1"
   ]
  },
  {
   "cell_type": "code",
   "execution_count": 115,
   "id": "46e20e87-ff1e-48a3-b942-529c3b2a94dd",
   "metadata": {},
   "outputs": [
    {
     "name": "stdout",
     "output_type": "stream",
     "text": [
      "              precision    recall  f1-score   support\n",
      "\n",
      "Without PCOS       0.99      1.00      1.00       162\n",
      "   With PCOS       1.00      0.97      0.99        38\n",
      "\n",
      "    accuracy                           0.99       200\n",
      "   macro avg       1.00      0.99      0.99       200\n",
      "weighted avg       1.00      0.99      0.99       200\n",
      "\n"
     ]
    }
   ],
   "source": [
    "#Evaluating the model: Method 2\n",
    "list_p = [\"Without PCOS\", \"With PCOS\"]\n",
    "print(classification_report(y_test,clf_pred, target_names=list_p))"
   ]
  },
  {
   "cell_type": "code",
   "execution_count": 117,
   "id": "f861d380-a150-4655-8af2-2a42094662da",
   "metadata": {},
   "outputs": [
    {
     "data": {
      "text/plain": [
       "array([[162,   0],\n",
       "       [  1,  37]], dtype=int64)"
      ]
     },
     "execution_count": 117,
     "metadata": {},
     "output_type": "execute_result"
    }
   ],
   "source": [
    "# Method 3: confusion matrix\n",
    "matrix2 = confusion_matrix(y_test,clf_pred)\n",
    "matrix2"
   ]
  },
  {
   "cell_type": "code",
   "execution_count": 119,
   "id": "b600568c-b09c-4cbf-9ddd-15deae5cd704",
   "metadata": {},
   "outputs": [
    {
     "data": {
      "image/png": "[encoded data removed]",
      "text/plain": [
       "<Figure size 640x480 with 2 Axes>"
      ]
     },
     "metadata": {},
     "output_type": "display_data"
    }
   ],
   "source": [
    "#Displaying the confusion matrix \n",
    "import matplotlib.pyplot as plt\n",
    "display = ConfusionMatrixDisplay(confusion_matrix = matrix2, display_labels = list_p)\n",
    "display.plot(cmap=plt.cm.Blues)\n",
    "plt.show()"
   ]
  },
  {
   "cell_type": "markdown",
   "id": "d9cab7d8-a499-43a1-8506-49acf2c336c7",
   "metadata": {},
   "source": [
    "# \n",
    "Before Hyperparemeter tuning, out of the 3, Random forest and Decision tree classifier seems to be the best models for predicting if a female patient has pcos or not. "
   ]
  },
  {
   "cell_type": "markdown",
   "id": "f3667483-e0a9-494b-a759-9facfb3c4577",
   "metadata": {},
   "source": [
    "# Performing Hyperparameter tuning on the 3 models"
   ]
  },
  {
   "cell_type": "code",
   "execution_count": 138,
   "id": "ba7e98eb-cc04-4430-ba19-cbc11f3d56e1",
   "metadata": {},
   "outputs": [],
   "source": [
    "from sklearn.model_selection import GridSearchCV\n",
    "\n",
    "# Defining Model parameters\n",
    "model_params = {\n",
    "    \"logistic_model\": {\n",
    "        \"model\": LogisticRegression(solver=\"liblinear\", multi_class=\"auto\"),\n",
    "        \"params\": {\n",
    "            \"C\": [1, 5, 10]\n",
    "        }\n",
    "    },\n",
    "    \"decision_tree\": {\n",
    "        \"model\": DecisionTreeClassifier(),\n",
    "        \"params\": {\n",
    "            \"max_depth\": [1, 3, 5]\n",
    "        }\n",
    "    },\n",
    "    \"random_forest\": {\n",
    "        \"model\": RandomForestClassifier(random_state=0),\n",
    "        \"params\": {\n",
    "            \"max_depth\": [1, 2, 4],\n",
    "            \"n_estimators\": [1, 5, 10]\n",
    "        }\n",
    "    }\n",
    "}\n"
   ]
  },
  {
   "cell_type": "code",
   "execution_count": 140,
   "id": "b8c0241f-46cb-4e9f-b03e-e6c5c89f96d5",
   "metadata": {},
   "outputs": [],
   "source": [
    "# Performing hyperparameter tunning\n",
    "scores = []\n",
    "for model_name, mp in model_params.items():\n",
    "    clf1 = GridSearchCV(mp[\"model\"],mp[\"params\"],cv=5, return_train_score = False)\n",
    "    clf1.fit(X,y)\n",
    "    scores.append({\n",
    "        \"model\": model_name,\n",
    "        \"best_score\": clf1.best_score_,\n",
    "        \"best_params\": clf1.best_params_\n",
    "    })"
   ]
  },
  {
   "cell_type": "code",
   "execution_count": 142,
   "id": "0c411831-f245-4b5e-9e06-b8580a99cc76",
   "metadata": {},
   "outputs": [
    {
     "data": {
      "text/html": [
       "<div>\n",
       "<style scoped>\n",
       "    .dataframe tbody tr th:only-of-type {\n",
       "        vertical-align: middle;\n",
       "    }\n",
       "\n",
       "    .dataframe tbody tr th {\n",
       "        vertical-align: top;\n",
       "    }\n",
       "\n",
       "    .dataframe thead th {\n",
       "        text-align: right;\n",
       "    }\n",
       "</style>\n",
       "<table border=\"1\" class=\"dataframe\">\n",
       "  <thead>\n",
       "    <tr style=\"text-align: right;\">\n",
       "      <th></th>\n",
       "      <th>model</th>\n",
       "      <th>best_score</th>\n",
       "      <th>best_params</th>\n",
       "    </tr>\n",
       "  </thead>\n",
       "  <tbody>\n",
       "    <tr>\n",
       "      <th>0</th>\n",
       "      <td>logistic_model</td>\n",
       "      <td>0.915</td>\n",
       "      <td>{'C': 10}</td>\n",
       "    </tr>\n",
       "    <tr>\n",
       "      <th>1</th>\n",
       "      <td>decision_tree</td>\n",
       "      <td>0.999</td>\n",
       "      <td>{'max_depth': 5}</td>\n",
       "    </tr>\n",
       "    <tr>\n",
       "      <th>2</th>\n",
       "      <td>random_forest</td>\n",
       "      <td>0.999</td>\n",
       "      <td>{'max_depth': 4, 'n_estimators': 5}</td>\n",
       "    </tr>\n",
       "  </tbody>\n",
       "</table>\n",
       "</div>"
      ],
      "text/plain": [
       "            model  best_score                          best_params\n",
       "0  logistic_model       0.915                            {'C': 10}\n",
       "1   decision_tree       0.999                     {'max_depth': 5}\n",
       "2   random_forest       0.999  {'max_depth': 4, 'n_estimators': 5}"
      ]
     },
     "execution_count": 142,
     "metadata": {},
     "output_type": "execute_result"
    }
   ],
   "source": [
    "# The above scores is returned as a list, converting it to a dataframe\n",
    "df = pd.DataFrame(scores, columns=[\"model\",\"best_score\",\"best_params\"])\n",
    "df"
   ]
  },
  {
   "cell_type": "markdown",
   "id": "45fce77e-a287-4cf0-9791-faa1d8bee3a9",
   "metadata": {},
   "source": [
    "#\n",
    "According to the results obtained from tuning the best models are Decision tree classifier with a max_depth of 4, and Random forest classifier with a max_depth of 4 and 5 n_estimators."
   ]
  },
  {
   "cell_type": "code",
   "execution_count": 147,
   "id": "f309fa9e-e53c-4f54-b757-71cf27287286",
   "metadata": {},
   "outputs": [
    {
     "name": "stdout",
     "output_type": "stream",
     "text": [
      "              precision    recall  f1-score   support\n",
      "\n",
      "Without PCOS       0.99      1.00      1.00       162\n",
      "   With PCOS       1.00      0.97      0.99        38\n",
      "\n",
      "    accuracy                           0.99       200\n",
      "   macro avg       1.00      0.99      0.99       200\n",
      "weighted avg       1.00      0.99      0.99       200\n",
      "\n"
     ]
    }
   ],
   "source": [
    "#experimenting with the best estimators\n",
    "# 1. Decision Tree\n",
    "model_rev = DecisionTreeClassifier(criterion=\"entropy\", max_depth=5)\n",
    "model_rev.fit(X_train,y_train)\n",
    "\n",
    "#prediction \n",
    "preds = model_rev.predict(X_test)\n",
    "#Evaluating the model: \n",
    "print(classification_report(y_test,preds, target_names=list_p))"
   ]
  },
  {
   "cell_type": "code",
   "execution_count": 149,
   "id": "8df96555-6ef5-4e5c-8250-c984471e9914",
   "metadata": {},
   "outputs": [
    {
     "name": "stdout",
     "output_type": "stream",
     "text": [
      "              precision    recall  f1-score   support\n",
      "\n",
      "Without PCOS       0.99      1.00      1.00       162\n",
      "   With PCOS       1.00      0.97      0.99        38\n",
      "\n",
      "    accuracy                           0.99       200\n",
      "   macro avg       1.00      0.99      0.99       200\n",
      "weighted avg       1.00      0.99      0.99       200\n",
      "\n"
     ]
    }
   ],
   "source": [
    "# 2. Random Forest \n",
    "model_rev1 = RandomForestClassifier(n_estimators=5, max_depth=5)\n",
    "model_rev1.fit(X_train,y_train)\n",
    "\n",
    "#prediction \n",
    "preds1 = model_rev1.predict(X_test)\n",
    "#Evaluating the model: \n",
    "print(classification_report(y_test,preds1, target_names=list_p))"
   ]
  },
  {
   "cell_type": "markdown",
   "id": "265c3137-a6e0-474a-98cc-5c5278bebcd7",
   "metadata": {},
   "source": [
    "#\n",
    "From the results it can be seen that the two models:\n",
    "   1. Correctly predicts 99% non_pcos cases and 100 of PCOS cases\n",
    "   2. Correctly identifies 100% actual non_pcos cases and 97% actual pcos cases.\n",
    "   3. The f1 scores shows that the models strongly identifies both non-pcos and pcos cases.\n",
    "\n",
    "To sum up, the best model for PCOS detection is either a decision tree classifier or a random forest classifier.    "
   ]
  },
  {
   "cell_type": "code",
   "execution_count": null,
   "id": "50f9e220-3b56-4814-b034-82666f02ed07",
   "metadata": {},
   "outputs": [],
   "source": []
  }
 ],
 "metadata": {
  "kernelspec": {
   "display_name": "Python 3 (ipykernel)",
   "language": "python",
   "name": "python3"
  },
  "language_info": {
   "codemirror_mode": {
    "name": "ipython",
    "version": 3
   },
   "file_extension": ".py",
   "mimetype": "text/x-python",
   "name": "python",
   "nbconvert_exporter": "python",
   "pygments_lexer": "ipython3",
   "version": "3.11.7"
  }
 },
 "nbformat": 4,
 "nbformat_minor": 5
}
